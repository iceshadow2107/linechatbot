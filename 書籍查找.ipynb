{
  "nbformat": 4,
  "nbformat_minor": 0,
  "metadata": {
    "colab": {
      "name": "書籍查找.ipynb",
      "provenance": [],
      "collapsed_sections": [],
      "authorship_tag": "ABX9TyONiNdfPLPN22dF9Bbpcpc7",
      "include_colab_link": true
    },
    "kernelspec": {
      "name": "python3",
      "display_name": "Python 3"
    }
  },
  "cells": [
    {
      "cell_type": "markdown",
      "metadata": {
        "id": "view-in-github",
        "colab_type": "text"
      },
      "source": [
        "<a href=\"https://colab.research.google.com/github/iceshadow2107/linechatbot/blob/main/%E6%9B%B8%E7%B1%8D%E6%9F%A5%E6%89%BE.ipynb\" target=\"_parent\"><img src=\"https://colab.research.google.com/assets/colab-badge.svg\" alt=\"Open In Colab\"/></a>"
      ]
    },
    {
      "cell_type": "code",
      "metadata": {
        "id": "71lomYGLhxqA",
        "colab": {
          "base_uri": "https://localhost:8080/"
        },
        "outputId": "3bb759ac-5935-40c5-e1ed-1a5f640f305c"
      },
      "source": [
        "from google.colab import drive\n",
        "drive.mount('/content/drive')"
      ],
      "execution_count": null,
      "outputs": [
        {
          "output_type": "stream",
          "text": [
            "Drive already mounted at /content/drive; to attempt to forcibly remount, call drive.mount(\"/content/drive\", force_remount=True).\n"
          ],
          "name": "stdout"
        }
      ]
    },
    {
      "cell_type": "code",
      "metadata": {
        "id": "8C5vs57k_T9u",
        "colab": {
          "base_uri": "https://localhost:8080/"
        },
        "outputId": "08120a81-0fb6-4bc4-d6fa-8690940d290a"
      },
      "source": [
        "!pip install line-bot-sdk flask flask-ngrok"
      ],
      "execution_count": null,
      "outputs": [
        {
          "output_type": "stream",
          "text": [
            "Requirement already satisfied: line-bot-sdk in /usr/local/lib/python3.6/dist-packages (1.17.0)\n",
            "Requirement already satisfied: flask in /usr/local/lib/python3.6/dist-packages (1.1.2)\n",
            "Requirement already satisfied: flask-ngrok in /usr/local/lib/python3.6/dist-packages (0.0.25)\n",
            "Requirement already satisfied: future in /usr/local/lib/python3.6/dist-packages (from line-bot-sdk) (0.16.0)\n",
            "Requirement already satisfied: requests>=2.0 in /usr/local/lib/python3.6/dist-packages (from line-bot-sdk) (2.23.0)\n",
            "Requirement already satisfied: Jinja2>=2.10.1 in /usr/local/lib/python3.6/dist-packages (from flask) (2.11.2)\n",
            "Requirement already satisfied: click>=5.1 in /usr/local/lib/python3.6/dist-packages (from flask) (7.1.2)\n",
            "Requirement already satisfied: Werkzeug>=0.15 in /usr/local/lib/python3.6/dist-packages (from flask) (1.0.1)\n",
            "Requirement already satisfied: itsdangerous>=0.24 in /usr/local/lib/python3.6/dist-packages (from flask) (1.1.0)\n",
            "Requirement already satisfied: urllib3!=1.25.0,!=1.25.1,<1.26,>=1.21.1 in /usr/local/lib/python3.6/dist-packages (from requests>=2.0->line-bot-sdk) (1.24.3)\n",
            "Requirement already satisfied: chardet<4,>=3.0.2 in /usr/local/lib/python3.6/dist-packages (from requests>=2.0->line-bot-sdk) (3.0.4)\n",
            "Requirement already satisfied: certifi>=2017.4.17 in /usr/local/lib/python3.6/dist-packages (from requests>=2.0->line-bot-sdk) (2020.11.8)\n",
            "Requirement already satisfied: idna<3,>=2.5 in /usr/local/lib/python3.6/dist-packages (from requests>=2.0->line-bot-sdk) (2.10)\n",
            "Requirement already satisfied: MarkupSafe>=0.23 in /usr/local/lib/python3.6/dist-packages (from Jinja2>=2.10.1->flask) (1.1.1)\n"
          ],
          "name": "stdout"
        }
      ]
    },
    {
      "cell_type": "code",
      "metadata": {
        "id": "ZIicwlmp_Wj5"
      },
      "source": [
        "# 引用Web Server套件\n",
        "from flask import Flask, request, abort, jsonify\n",
        "\n",
        "# 載入json處理套件\n",
        "import json\n",
        "\n",
        "# 外部連結自動生成套件\n",
        "from flask_ngrok import run_with_ngrok\n",
        "\n",
        "# 從linebot 套件包裡引用 LineBotApi 與 WebhookHandler 類別\n",
        "from linebot import (\n",
        "    LineBotApi, WebhookHandler\n",
        ")\n",
        "\n",
        "# 引用無效簽章錯誤\n",
        "from linebot.exceptions import (\n",
        "    InvalidSignatureError\n",
        ")"
      ],
      "execution_count": null,
      "outputs": []
    },
    {
      "cell_type": "code",
      "metadata": {
        "id": "Y8X5-0Gc_das"
      },
      "source": [
        "# 設定Server啟用細節\n",
        "app = Flask(__name__,static_url_path = \"/material\" , static_folder = \"./material/\")\n",
        "run_with_ngrok(app)\n",
        "\n",
        "# 生成實體物件\n",
        "line_bot_api = LineBotApi(\"vO5V8KXqjmdZw+iU+EL3RQv1uIQgW/PQBBH91TslDbEuKBp4SORI7logO9a3fhAtahQ0/CSzgk1Ca5quePR1X11ItryjhsuKAu166G32igWvPOnJJZyy4Wt8Ku7jfhoe/MAFiuj3cNhpxW96o2fmZwdB04t89/1O/w1cDnyilFU=\")\n",
        "handler = WebhookHandler(\"b54eb758d4fc7c2a528454061b61ea5c\")"
      ],
      "execution_count": null,
      "outputs": []
    },
    {
      "cell_type": "code",
      "metadata": {
        "id": "7crmHhWO_zcP"
      },
      "source": [
        "# 啟動server對外接口，使Line能丟消息進來\n",
        "@app.route(\"/\", methods=['POST'])\n",
        "def callback():\n",
        "    # get X-Line-Signature header value\n",
        "    signature = request.headers['X-Line-Signature']\n",
        "\n",
        "    # get request body as text\n",
        "    body = request.get_data(as_text=True)\n",
        "    print(body)\n",
        "\n",
        "    # 記錄用戶log\n",
        "    f = open(\"/content/drive/MyDrive/ai-event.log\", \"a\")\n",
        "    f.write(body)\n",
        "    f.close()\n",
        "\n",
        "    # handle webhook body\n",
        "    try:\n",
        "        handler.handle(body, signature)\n",
        "    except InvalidSignatureError:\n",
        "        abort(400)\n",
        "\n",
        "    return 'OK'"
      ],
      "execution_count": null,
      "outputs": []
    },
    {
      "cell_type": "code",
      "metadata": {
        "id": "7RPkfrJxriji"
      },
      "source": [
        "## 設計QuickReplyButton的List\n",
        "quickReplyList = QuickReply(\n",
        "    items = [textQuickReplyButton, dateQuickReplyButton, cameraQuickReplyButton, cameraRollQRB, locationQRB,postbackQRB]\n",
        ")"
      ],
      "execution_count": null,
      "outputs": []
    },
    {
      "cell_type": "code",
      "metadata": {
        "id": "mOBu_Ymnrp4V"
      },
      "source": [
        "## 將quickReplyList 塞入TextSendMessage 中 \n",
        "from linebot.models import (\n",
        "    TextSendMessage,\n",
        ")\n",
        "quick_reply_text_send_message = TextSendMessage(text='發送問題給用戶，請用戶回答', quick_reply=quickReplyList)"
      ],
      "execution_count": null,
      "outputs": []
    },
    {
      "cell_type": "code",
      "metadata": {
        "id": "8_hK1QQRrsO9"
      },
      "source": [
        "# 將消息模型，文字收取消息與文字寄發消息 引入\n",
        "from linebot.models import (\n",
        "    MessageEvent, TextMessage, TextSendMessage, ImageSendMessage\n",
        ")\n",
        "\n",
        "specific_text_message=TextSendMessage(\"官方建議，用戶以文字消息觸發特殊功能的時候，要加上特殊符號\")\n",
        "\n",
        "analyze_truth_image_message=ImageSendMessage(\n",
        "      original_content_url='https://i.imgur.com/TaRf1w8.jpeg',\n",
        "      preview_image_url='https://i.imgur.com/TaRf1w8.jpeg'\n",
        "      )"
      ],
      "execution_count": null,
      "outputs": []
    },
    {
      "cell_type": "code",
      "metadata": {
        "id": "898WFyaPsAtu"
      },
      "source": [
        "#引入所需要的消息與模板消息\n",
        "from linebot.models import (\n",
        "    MessageEvent, TemplateSendMessage , PostbackEvent\n",
        ")\n",
        "\n",
        "#引入按鍵模板\n",
        "from linebot.models.template import(\n",
        "    ButtonsTemplate, ImageCarouselTemplate\n",
        ")"
      ],
      "execution_count": null,
      "outputs": []
    },
    {
      "cell_type": "code",
      "metadata": {
        "id": "c6iuh21GsBe8"
      },
      "source": [
        "buttons_template_message = TemplateSendMessage(\n",
        "    alt_text='Buttons template',\n",
        "    template=ButtonsTemplate(\n",
        "        title='尋找說書YouTuber',\n",
        "        text='看你想要看哪一個YouTuber',\n",
        "        actions=[\n",
        "          {\n",
        "            \"type\": \"uri\",\n",
        "            \"label\": \"NeKo 嗚喵\",\n",
        "            \"uri\": \"https://www.youtube.com/user/james7185\"   \n",
        "          },\n",
        "          {\n",
        "            \"type\": \"uri\",\n",
        "            \"label\": \"文森說書\",\n",
        "            \"uri\": \"https://www.youtube.com/channel/UCPgGtH2PxZ9xR0ehzQ27FHw\"\n",
        "          },\n",
        "          {\n",
        "            \"type\": \"uri\",\n",
        "            \"label\": \"艾爾文\",\n",
        "            \"uri\": \"https://www.youtube.com/user/17richfriend\"\n",
        "          },\n",
        "          {\n",
        "            \"type\": \"message\",\n",
        "            \"label\": \"你選的這些我都不喜歡\",\n",
        "            \"text\": \"@那就點選圖文選單吧\"\n",
        "          }\n",
        "        ]\n",
        "  )\n",
        ")"
      ],
      "execution_count": null,
      "outputs": []
    },
    {
      "cell_type": "code",
      "metadata": {
        "id": "n11DFi9t1pdC"
      },
      "source": [
        "buttons_template_message2 = TemplateSendMessage(\n",
        "    alt_text='Buttons template',\n",
        "    template=ButtonsTemplate(\n",
        "        title='Top 10 網路書店之常用3個',\n",
        "        text='想去哪個書店',\n",
        "        actions=[\n",
        "          {\n",
        "            \"type\": \"uri\",\n",
        "            \"label\": \"博客來\",\n",
        "            \"uri\": \"https://www.books.com.tw/\"  \n",
        "          },\n",
        "          {\n",
        "            \"type\": \"uri\",\n",
        "            \"label\": \"誠品書店\",\n",
        "            \"uri\": \"https://www.eslite.com/\"    \n",
        "          },\n",
        "          {\n",
        "            \"type\": \"uri\",\n",
        "            \"label\": \"三民書局\",\n",
        "            \"uri\": \"https://www.sanmin.com.tw/\"  \n",
        "          },\n",
        "          {\n",
        "            \"type\": \"message\",\n",
        "            \"label\": \"你選的這些我都不喜歡\",\n",
        "            \"text\": \"@那就點選圖文選單吧\" \n",
        "          }      \n",
        "        ]\n",
        "    )\n",
        ")\n"
      ],
      "execution_count": null,
      "outputs": []
    },
    {
      "cell_type": "code",
      "metadata": {
        "id": "JqgiB7PXsSjX"
      },
      "source": [
        "# 將消息模型，文字收取消息與文字寄發消息 引入\n",
        "from linebot.models import (\n",
        "    MessageEvent, TextMessage, TextSendMessage, ImageSendMessage\n",
        ")\n",
        "\n",
        "# 根據自定義選單四格、跟輪播選單+圖，設定相對應image\n",
        "template_message_dict = {\n",
        "  \"@reply\":quick_reply_text_send_message,\n",
        "  \"@說書YouTuber推薦\":buttons_template_message,\n",
        "  \"@那點選圖文選單吧\":TextSendMessage(\"點擊選單\"),\n",
        "  \"@Top 10 網路書店之常用3個\":buttons_template_message2,\n",
        "  \"@無法搜尋\":TextSendMessage(\"官方建議，用戶以文字消息觸發特殊功能的時候，要加上特殊符號\"),\n",
        "  \"@烏合之眾\":ImageSendMessage(\n",
        "      original_content_url='https://i.imgur.com/TaRf1w8.jpeg',  #顯示一的圖\n",
        "      preview_image_url='https://i.imgur.com/TaRf1w8.jpeg'      #點開二的圖\n",
        "      )\n",
        "}"
      ],
      "execution_count": null,
      "outputs": []
    },
    {
      "cell_type": "code",
      "metadata": {
        "id": "5YjBBcMtsZ7d"
      },
      "source": [
        "# 載入Follow事件\n",
        "from linebot.models.events import (\n",
        "    FollowEvent\n",
        ")\n",
        "\n",
        "from linebot.models import(\n",
        "    TextSendMessage, ImageSendMessage, StickerSendMessage\n",
        ")\n",
        "\n",
        "# 載入requests套件\n",
        "import requests\n",
        "\n",
        "\n",
        "# 告知handler，如果收到FollowEvent，則做下面的方法處理\n",
        "@handler.add(FollowEvent)\n",
        "def reply_text_and_get_user_profile(event):\n",
        "    \n",
        "    # 取出消息內User的資料\n",
        "    user_profile = line_bot_api.get_profile(event.source.user_id)\n",
        "        \n",
        "     # 將用戶資訊存在檔案內\n",
        "    with open(\"/content/drive/MyDrive/users.txt\", \"a\") as myfile:\n",
        "        myfile.write(json.dumps(vars(user_profile),sort_keys=True))\n",
        "        myfile.write('\\n')\n",
        "    \n",
        "    # 回覆文字消息與圖片消息\n",
        "    # line_bot_api.reply_message(\n",
        "    #     event.reply_token,\n",
        "    #     [StickerSendMessage(package_id=1, sticker_id=2)]\n",
        "    # )"
      ],
      "execution_count": null,
      "outputs": []
    },
    {
      "cell_type": "code",
      "metadata": {
        "id": "o2Sub6jrsp72"
      },
      "source": [
        "#用戶點擊button後，觸發postback event，對其回傳做相對應處理\n",
        "\n",
        "@handler.add(PostbackEvent)\n",
        "def handle_post_message(event):\n",
        "    user_profile = line_bot_api.get_profile(event.source.user_id)\n",
        "    if (event.postback.data.find('Data1')== 0):\n",
        "        with open(\"user_profile_business.txt\", \"a\") as myfile:\n",
        "            myfile.write(json.dumps(vars(user_profile),sort_keys=True))\n",
        "            myfile.write('\\n')\n",
        "            line_bot_api.reply_message(\n",
        "            event.reply_token,\n",
        "                TextMessage(\n",
        "                    text='請稍待，會有專人與您聯繫'\n",
        "                )\n",
        "            )\n",
        "    elif (event.postback.data.find('Data2') == 0):\n",
        "        with open(\"user_profile_tutorial.txt\", \"a\") as myfile:\n",
        "            myfile.write(json.dumps(vars(user_profile),sort_keys=True))\n",
        "            myfile.write('\\n')\n",
        "            line_bot_api.reply_message(\n",
        "            event.reply_token,\n",
        "                TextMessage(\n",
        "                    text='請稍待，我們會派專家與您聯繫'\n",
        "                )\n",
        "            )\n",
        "    else:\n",
        "        pass"
      ],
      "execution_count": null,
      "outputs": []
    },
    {
      "cell_type": "code",
      "metadata": {
        "id": "RiAgqYe1sth_"
      },
      "source": [
        "# 用戶發出文字消息時， 按條件內容, 回傳文字消息\n",
        "@handler.add(MessageEvent, message=TextMessage)\n",
        "def handle_message(event):\n",
        "    \n",
        "    if(event.message.text.find('@')!= -1):\n",
        "        line_bot_api.reply_message(\n",
        "        event.reply_token,\n",
        "        template_message_dict.get(event.message.text)\n",
        "        )\n",
        "    else:\n",
        "        line_bot_api.reply_message(\n",
        "        event.reply_token,\n",
        "        TextSendMessage(text=\"字典內查無此字，請輸入@無法搜尋、@烏合之眾、@說書YouTuber推薦、@Top 10 網路書店之常用3個\")\n",
        "        )"
      ],
      "execution_count": null,
      "outputs": []
    },
    {
      "cell_type": "code",
      "metadata": {
        "id": "_4xpLwp9sxdr"
      },
      "source": [
        "from linebot.models import(\n",
        "    MessageEvent,ImageMessage, TextSendMessage\n",
        ")\n",
        "\n",
        "@handler.add(MessageEvent, message=ImageMessage)\n",
        "def handle_message(event):\n",
        "    line_bot_api.reply_message(\n",
        "        event.reply_token,\n",
        "        TextSendMessage(text='Image has Upload'+ ' ' + event.message.id))\n",
        "    message_content = line_bot_api.get_message_content(event.message.id)\n",
        "    with open(event.message.id+'.jpg', 'wb') as fd:\n",
        "        for chunk in message_content.iter_content():\n",
        "            fd.write(chunk)"
      ],
      "execution_count": null,
      "outputs": []
    },
    {
      "cell_type": "code",
      "metadata": {
        "id": "fKGzCbVDsyP4",
        "colab": {
          "base_uri": "https://localhost:8080/"
        },
        "outputId": "2c6f4021-6382-4e81-93f0-0e6cc84f27bf"
      },
      "source": [
        "app.run()"
      ],
      "execution_count": null,
      "outputs": [
        {
          "output_type": "stream",
          "text": [
            " * Serving Flask app \"__main__\" (lazy loading)\n",
            " * Environment: production\n",
            "\u001b[31m   WARNING: This is a development server. Do not use it in a production deployment.\u001b[0m\n",
            "\u001b[2m   Use a production WSGI server instead.\u001b[0m\n",
            " * Debug mode: off\n"
          ],
          "name": "stdout"
        },
        {
          "output_type": "stream",
          "text": [
            " * Running on http://127.0.0.1:5000/ (Press CTRL+C to quit)\n"
          ],
          "name": "stderr"
        },
        {
          "output_type": "stream",
          "text": [
            " * Running on http://fdf360e92272.ngrok.io\n",
            " * Traffic stats available on http://127.0.0.1:4040\n"
          ],
          "name": "stdout"
        },
        {
          "output_type": "stream",
          "text": [
            "127.0.0.1 - - [08/Dec/2020 09:28:00] \"\u001b[37mPOST / HTTP/1.1\u001b[0m\" 200 -\n"
          ],
          "name": "stderr"
        },
        {
          "output_type": "stream",
          "text": [
            "{\"events\":[{\"type\":\"unfollow\",\"source\":{\"userId\":\"U9fc198f34b71026411046b614bfbf19c\",\"type\":\"user\"},\"timestamp\":1607419679892,\"mode\":\"active\"}],\"destination\":\"U510bf767e8a779566c54c5ca24da8de0\"}\n",
            "{\"events\":[{\"type\":\"follow\",\"replyToken\":\"0588eed7fd34484ab24df05c7bc41a35\",\"source\":{\"userId\":\"U9fc198f34b71026411046b614bfbf19c\",\"type\":\"user\"},\"timestamp\":1607419690560,\"mode\":\"active\"}],\"destination\":\"U510bf767e8a779566c54c5ca24da8de0\"}\n"
          ],
          "name": "stdout"
        },
        {
          "output_type": "stream",
          "text": [
            "127.0.0.1 - - [08/Dec/2020 09:28:11] \"\u001b[37mPOST / HTTP/1.1\u001b[0m\" 200 -\n",
            "127.0.0.1 - - [08/Dec/2020 09:28:44] \"\u001b[37mPOST / HTTP/1.1\u001b[0m\" 200 -\n"
          ],
          "name": "stderr"
        },
        {
          "output_type": "stream",
          "text": [
            "{\"events\":[{\"type\":\"unfollow\",\"source\":{\"userId\":\"U9fc198f34b71026411046b614bfbf19c\",\"type\":\"user\"},\"timestamp\":1607419723891,\"mode\":\"active\"}],\"destination\":\"U510bf767e8a779566c54c5ca24da8de0\"}\n",
            "{\"events\":[{\"type\":\"follow\",\"replyToken\":\"86c80c6ecb754dd8ab530494f5da7e5e\",\"source\":{\"userId\":\"U9fc198f34b71026411046b614bfbf19c\",\"type\":\"user\"},\"timestamp\":1607419736860,\"mode\":\"active\"}],\"destination\":\"U510bf767e8a779566c54c5ca24da8de0\"}\n"
          ],
          "name": "stdout"
        },
        {
          "output_type": "stream",
          "text": [
            "127.0.0.1 - - [08/Dec/2020 09:28:57] \"\u001b[37mPOST / HTTP/1.1\u001b[0m\" 200 -\n"
          ],
          "name": "stderr"
        },
        {
          "output_type": "stream",
          "text": [
            "{\"events\":[{\"type\":\"message\",\"replyToken\":\"a5c2b7b4429947e386f1dd35819ada58\",\"source\":{\"userId\":\"U9fc198f34b71026411046b614bfbf19c\",\"type\":\"user\"},\"timestamp\":1607419762288,\"mode\":\"active\",\"message\":{\"type\":\"text\",\"id\":\"13166525341511\",\"text\":\"@烏合之眾\"}}],\"destination\":\"U510bf767e8a779566c54c5ca24da8de0\"}\n"
          ],
          "name": "stdout"
        },
        {
          "output_type": "stream",
          "text": [
            "127.0.0.1 - - [08/Dec/2020 09:29:23] \"\u001b[37mPOST / HTTP/1.1\u001b[0m\" 200 -\n"
          ],
          "name": "stderr"
        },
        {
          "output_type": "stream",
          "text": [
            "{\"events\":[{\"type\":\"message\",\"replyToken\":\"e1f2b9aab3564ba5b289fcede9ef7e28\",\"source\":{\"userId\":\"U9fc198f34b71026411046b614bfbf19c\",\"type\":\"user\"},\"timestamp\":1607419783733,\"mode\":\"active\",\"message\":{\"type\":\"text\",\"id\":\"13166527139136\",\"text\":\"@說書YouTuber推薦\"}}],\"destination\":\"U510bf767e8a779566c54c5ca24da8de0\"}\n"
          ],
          "name": "stdout"
        },
        {
          "output_type": "stream",
          "text": [
            "127.0.0.1 - - [08/Dec/2020 09:29:44] \"\u001b[37mPOST / HTTP/1.1\u001b[0m\" 200 -\n",
            "[2020-12-08 09:30:23,145] ERROR in app: Exception on / [POST]\n",
            "Traceback (most recent call last):\n",
            "  File \"/usr/local/lib/python3.6/dist-packages/flask/app.py\", line 2447, in wsgi_app\n",
            "    response = self.full_dispatch_request()\n",
            "  File \"/usr/local/lib/python3.6/dist-packages/flask/app.py\", line 1952, in full_dispatch_request\n",
            "    rv = self.handle_user_exception(e)\n",
            "  File \"/usr/local/lib/python3.6/dist-packages/flask/app.py\", line 1821, in handle_user_exception\n",
            "    reraise(exc_type, exc_value, tb)\n",
            "  File \"/usr/local/lib/python3.6/dist-packages/flask/_compat.py\", line 39, in reraise\n",
            "    raise value\n",
            "  File \"/usr/local/lib/python3.6/dist-packages/flask/app.py\", line 1950, in full_dispatch_request\n",
            "    rv = self.dispatch_request()\n",
            "  File \"/usr/local/lib/python3.6/dist-packages/flask/app.py\", line 1936, in dispatch_request\n",
            "    return self.view_functions[rule.endpoint](**req.view_args)\n",
            "  File \"<ipython-input-317-177c75612581>\", line 18, in callback\n",
            "    handler.handle(body, signature)\n",
            "  File \"/usr/local/lib/python3.6/dist-packages/linebot/webhook.py\", line 256, in handle\n",
            "    self.__invoke_func(func, event, payload)\n",
            "  File \"/usr/local/lib/python3.6/dist-packages/linebot/webhook.py\", line 268, in __invoke_func\n",
            "    func(event)\n",
            "  File \"<ipython-input-329-4880981504f1>\", line 8, in handle_message\n",
            "    template_message_dict.get(event.message.text)\n",
            "  File \"/usr/local/lib/python3.6/dist-packages/linebot/api.py\", line 104, in reply_message\n",
            "    'messages': [message.as_json_dict() for message in messages],\n",
            "  File \"/usr/local/lib/python3.6/dist-packages/linebot/api.py\", line 104, in <listcomp>\n",
            "    'messages': [message.as_json_dict() for message in messages],\n",
            "AttributeError: 'NoneType' object has no attribute 'as_json_dict'\n",
            "127.0.0.1 - - [08/Dec/2020 09:30:23] \"\u001b[35m\u001b[1mPOST / HTTP/1.1\u001b[0m\" 500 -\n"
          ],
          "name": "stderr"
        },
        {
          "output_type": "stream",
          "text": [
            "{\"events\":[{\"type\":\"message\",\"replyToken\":\"ee90583a78e347a8b3deb662c748ad57\",\"source\":{\"userId\":\"U9fc198f34b71026411046b614bfbf19c\",\"type\":\"user\"},\"timestamp\":1607419822437,\"mode\":\"active\",\"message\":{\"type\":\"text\",\"id\":\"13166530414430\",\"text\":\"@Top 10網路書店之常用3個\"}}],\"destination\":\"U510bf767e8a779566c54c5ca24da8de0\"}\n",
            "{\"events\":[{\"type\":\"message\",\"replyToken\":\"61b9b19ddc3e4124b336b2eefa4c7921\",\"source\":{\"userId\":\"U9fc198f34b71026411046b614bfbf19c\",\"type\":\"user\"},\"timestamp\":1607419829956,\"mode\":\"active\",\"message\":{\"type\":\"text\",\"id\":\"13166531055044\",\"text\":\"@Top 10 網路書店之常用3個\"}}],\"destination\":\"U510bf767e8a779566c54c5ca24da8de0\"}\n"
          ],
          "name": "stdout"
        },
        {
          "output_type": "stream",
          "text": [
            "127.0.0.1 - - [08/Dec/2020 09:30:31] \"\u001b[37mPOST / HTTP/1.1\u001b[0m\" 200 -\n",
            "127.0.0.1 - - [08/Dec/2020 09:32:00] \"\u001b[37mPOST / HTTP/1.1\u001b[0m\" 200 -\n"
          ],
          "name": "stderr"
        },
        {
          "output_type": "stream",
          "text": [
            "{\"events\":[{\"type\":\"unfollow\",\"source\":{\"userId\":\"U9fc198f34b71026411046b614bfbf19c\",\"type\":\"user\"},\"timestamp\":1607419919862,\"mode\":\"active\"}],\"destination\":\"U510bf767e8a779566c54c5ca24da8de0\"}\n",
            "{\"events\":[{\"type\":\"follow\",\"replyToken\":\"9b4cc7e7bd86402aa466826c72af282e\",\"source\":{\"userId\":\"U9fc198f34b71026411046b614bfbf19c\",\"type\":\"user\"},\"timestamp\":1607419934299,\"mode\":\"active\"}],\"destination\":\"U510bf767e8a779566c54c5ca24da8de0\"}\n"
          ],
          "name": "stdout"
        },
        {
          "output_type": "stream",
          "text": [
            "127.0.0.1 - - [08/Dec/2020 09:32:15] \"\u001b[37mPOST / HTTP/1.1\u001b[0m\" 200 -\n"
          ],
          "name": "stderr"
        },
        {
          "output_type": "stream",
          "text": [
            "{\"events\":[{\"type\":\"message\",\"replyToken\":\"fd7093df5cde40f19d1dfafe5af742eb\",\"source\":{\"userId\":\"U9fc198f34b71026411046b614bfbf19c\",\"type\":\"user\"},\"timestamp\":1607419954737,\"mode\":\"active\",\"message\":{\"type\":\"text\",\"id\":\"13166541587886\",\"text\":\"@烏合之眾\"}}],\"destination\":\"U510bf767e8a779566c54c5ca24da8de0\"}\n"
          ],
          "name": "stdout"
        },
        {
          "output_type": "stream",
          "text": [
            "127.0.0.1 - - [08/Dec/2020 09:32:35] \"\u001b[37mPOST / HTTP/1.1\u001b[0m\" 200 -\n"
          ],
          "name": "stderr"
        },
        {
          "output_type": "stream",
          "text": [
            "{\"events\":[{\"type\":\"message\",\"replyToken\":\"78857ea1daf94bd5b147760321516647\",\"source\":{\"userId\":\"U9fc198f34b71026411046b614bfbf19c\",\"type\":\"user\"},\"timestamp\":1607419978790,\"mode\":\"active\",\"message\":{\"type\":\"text\",\"id\":\"13166543614525\",\"text\":\"@說書YouTuber推薦\"}}],\"destination\":\"U510bf767e8a779566c54c5ca24da8de0\"}\n"
          ],
          "name": "stdout"
        },
        {
          "output_type": "stream",
          "text": [
            "127.0.0.1 - - [08/Dec/2020 09:32:59] \"\u001b[37mPOST / HTTP/1.1\u001b[0m\" 200 -\n"
          ],
          "name": "stderr"
        },
        {
          "output_type": "stream",
          "text": [
            "{\"events\":[{\"type\":\"message\",\"replyToken\":\"9c36de99c05647f982234d076ea953e3\",\"source\":{\"userId\":\"U9fc198f34b71026411046b614bfbf19c\",\"type\":\"user\"},\"timestamp\":1607420005791,\"mode\":\"active\",\"message\":{\"type\":\"text\",\"id\":\"13166545898990\",\"text\":\"@Top 10 網路書店之常用3個\"}}],\"destination\":\"U510bf767e8a779566c54c5ca24da8de0\"}\n"
          ],
          "name": "stdout"
        },
        {
          "output_type": "stream",
          "text": [
            "127.0.0.1 - - [08/Dec/2020 09:33:26] \"\u001b[37mPOST / HTTP/1.1\u001b[0m\" 200 -\n",
            "127.0.0.1 - - [08/Dec/2020 09:39:51] \"\u001b[37mPOST / HTTP/1.1\u001b[0m\" 200 -\n"
          ],
          "name": "stderr"
        },
        {
          "output_type": "stream",
          "text": [
            "{\"events\":[{\"type\":\"unfollow\",\"source\":{\"userId\":\"U9fc198f34b71026411046b614bfbf19c\",\"type\":\"user\"},\"timestamp\":1607420390343,\"mode\":\"active\"}],\"destination\":\"U510bf767e8a779566c54c5ca24da8de0\"}\n",
            "{\"events\":[{\"type\":\"follow\",\"replyToken\":\"9f63b0032aed428485ec7d42d8473bf3\",\"source\":{\"userId\":\"U9fc198f34b71026411046b614bfbf19c\",\"type\":\"user\"},\"timestamp\":1607420402437,\"mode\":\"active\"}],\"destination\":\"U510bf767e8a779566c54c5ca24da8de0\"}\n"
          ],
          "name": "stdout"
        },
        {
          "output_type": "stream",
          "text": [
            "127.0.0.1 - - [08/Dec/2020 09:40:03] \"\u001b[37mPOST / HTTP/1.1\u001b[0m\" 200 -\n"
          ],
          "name": "stderr"
        },
        {
          "output_type": "stream",
          "text": [
            "{\"events\":[{\"type\":\"message\",\"replyToken\":\"e61e3921265949aeb5f781c4dc2cd3d8\",\"source\":{\"userId\":\"U9fc198f34b71026411046b614bfbf19c\",\"type\":\"user\"},\"timestamp\":1607420422665,\"mode\":\"active\",\"message\":{\"type\":\"text\",\"id\":\"13166580838790\",\"text\":\"@烏合之眾\"}}],\"destination\":\"U510bf767e8a779566c54c5ca24da8de0\"}\n"
          ],
          "name": "stdout"
        },
        {
          "output_type": "stream",
          "text": [
            "127.0.0.1 - - [08/Dec/2020 09:40:23] \"\u001b[37mPOST / HTTP/1.1\u001b[0m\" 200 -\n",
            "127.0.0.1 - - [08/Dec/2020 09:40:47] \"\u001b[37mPOST / HTTP/1.1\u001b[0m\" 200 -\n"
          ],
          "name": "stderr"
        },
        {
          "output_type": "stream",
          "text": [
            "{\"events\":[{\"type\":\"unfollow\",\"source\":{\"userId\":\"U9fc198f34b71026411046b614bfbf19c\",\"type\":\"user\"},\"timestamp\":1607420446659,\"mode\":\"active\"}],\"destination\":\"U510bf767e8a779566c54c5ca24da8de0\"}\n",
            "{\"events\":[{\"type\":\"follow\",\"replyToken\":\"72273672aa094513b4c2b53e2dd91f6a\",\"source\":{\"userId\":\"U9fc198f34b71026411046b614bfbf19c\",\"type\":\"user\"},\"timestamp\":1607420455876,\"mode\":\"active\"}],\"destination\":\"U510bf767e8a779566c54c5ca24da8de0\"}\n"
          ],
          "name": "stdout"
        },
        {
          "output_type": "stream",
          "text": [
            "127.0.0.1 - - [08/Dec/2020 09:40:56] \"\u001b[37mPOST / HTTP/1.1\u001b[0m\" 200 -\n",
            "127.0.0.1 - - [08/Dec/2020 09:41:11] \"\u001b[37mPOST / HTTP/1.1\u001b[0m\" 200 -\n"
          ],
          "name": "stderr"
        },
        {
          "output_type": "stream",
          "text": [
            "{\"events\":[{\"type\":\"unfollow\",\"source\":{\"userId\":\"U9fc198f34b71026411046b614bfbf19c\",\"type\":\"user\"},\"timestamp\":1607420470452,\"mode\":\"active\"}],\"destination\":\"U510bf767e8a779566c54c5ca24da8de0\"}\n",
            "{\"events\":[{\"type\":\"follow\",\"replyToken\":\"f218f2ebc6704dca8159cf08f49a9b75\",\"source\":{\"userId\":\"U9fc198f34b71026411046b614bfbf19c\",\"type\":\"user\"},\"timestamp\":1607420485212,\"mode\":\"active\"}],\"destination\":\"U510bf767e8a779566c54c5ca24da8de0\"}\n"
          ],
          "name": "stdout"
        },
        {
          "output_type": "stream",
          "text": [
            "127.0.0.1 - - [08/Dec/2020 09:41:26] \"\u001b[37mPOST / HTTP/1.1\u001b[0m\" 200 -\n"
          ],
          "name": "stderr"
        },
        {
          "output_type": "stream",
          "text": [
            "{\"events\":[{\"type\":\"message\",\"replyToken\":\"c5c5259878ed4c299de5ebbd6becd9ff\",\"source\":{\"userId\":\"U9fc198f34b71026411046b614bfbf19c\",\"type\":\"user\"},\"timestamp\":1607420501107,\"mode\":\"active\",\"message\":{\"type\":\"text\",\"id\":\"13166587418247\",\"text\":\"@烏合之眾\"}}],\"destination\":\"U510bf767e8a779566c54c5ca24da8de0\"}\n"
          ],
          "name": "stdout"
        },
        {
          "output_type": "stream",
          "text": [
            "127.0.0.1 - - [08/Dec/2020 09:41:42] \"\u001b[37mPOST / HTTP/1.1\u001b[0m\" 200 -\n"
          ],
          "name": "stderr"
        },
        {
          "output_type": "stream",
          "text": [
            "{\"events\":[{\"type\":\"message\",\"replyToken\":\"be68fd4faf074537805c709be2ccfddb\",\"source\":{\"userId\":\"U9fc198f34b71026411046b614bfbf19c\",\"type\":\"user\"},\"timestamp\":1607420520146,\"mode\":\"active\",\"message\":{\"type\":\"text\",\"id\":\"13166589008776\",\"text\":\"@說書YouTuber推薦\"}}],\"destination\":\"U510bf767e8a779566c54c5ca24da8de0\"}\n"
          ],
          "name": "stdout"
        },
        {
          "output_type": "stream",
          "text": [
            "127.0.0.1 - - [08/Dec/2020 09:42:01] \"\u001b[37mPOST / HTTP/1.1\u001b[0m\" 200 -\n",
            "[2020-12-08 09:42:04,994] ERROR in app: Exception on / [POST]\n",
            "Traceback (most recent call last):\n",
            "  File \"/usr/local/lib/python3.6/dist-packages/flask/app.py\", line 2447, in wsgi_app\n",
            "    response = self.full_dispatch_request()\n",
            "  File \"/usr/local/lib/python3.6/dist-packages/flask/app.py\", line 1952, in full_dispatch_request\n",
            "    rv = self.handle_user_exception(e)\n",
            "  File \"/usr/local/lib/python3.6/dist-packages/flask/app.py\", line 1821, in handle_user_exception\n",
            "    reraise(exc_type, exc_value, tb)\n",
            "  File \"/usr/local/lib/python3.6/dist-packages/flask/_compat.py\", line 39, in reraise\n",
            "    raise value\n",
            "  File \"/usr/local/lib/python3.6/dist-packages/flask/app.py\", line 1950, in full_dispatch_request\n",
            "    rv = self.dispatch_request()\n",
            "  File \"/usr/local/lib/python3.6/dist-packages/flask/app.py\", line 1936, in dispatch_request\n",
            "    return self.view_functions[rule.endpoint](**req.view_args)\n",
            "  File \"<ipython-input-317-177c75612581>\", line 18, in callback\n",
            "    handler.handle(body, signature)\n",
            "  File \"/usr/local/lib/python3.6/dist-packages/linebot/webhook.py\", line 256, in handle\n",
            "    self.__invoke_func(func, event, payload)\n",
            "  File \"/usr/local/lib/python3.6/dist-packages/linebot/webhook.py\", line 268, in __invoke_func\n",
            "    func(event)\n",
            "  File \"<ipython-input-329-4880981504f1>\", line 8, in handle_message\n",
            "    template_message_dict.get(event.message.text)\n",
            "  File \"/usr/local/lib/python3.6/dist-packages/linebot/api.py\", line 104, in reply_message\n",
            "    'messages': [message.as_json_dict() for message in messages],\n",
            "  File \"/usr/local/lib/python3.6/dist-packages/linebot/api.py\", line 104, in <listcomp>\n",
            "    'messages': [message.as_json_dict() for message in messages],\n",
            "AttributeError: 'NoneType' object has no attribute 'as_json_dict'\n",
            "127.0.0.1 - - [08/Dec/2020 09:42:04] \"\u001b[35m\u001b[1mPOST / HTTP/1.1\u001b[0m\" 500 -\n"
          ],
          "name": "stderr"
        },
        {
          "output_type": "stream",
          "text": [
            "{\"events\":[{\"type\":\"message\",\"replyToken\":\"ba3cd7c9f9f84eb78af2eafc42af528e\",\"source\":{\"userId\":\"U9fc198f34b71026411046b614bfbf19c\",\"type\":\"user\"},\"timestamp\":1607420524290,\"mode\":\"active\",\"message\":{\"type\":\"text\",\"id\":\"13166589348080\",\"text\":\"@那就點選圖文選單吧\"}}],\"destination\":\"U510bf767e8a779566c54c5ca24da8de0\"}\n",
            "{\"events\":[{\"type\":\"message\",\"replyToken\":\"99a2afdef06147ea998473f03cac64b0\",\"source\":{\"userId\":\"U9fc198f34b71026411046b614bfbf19c\",\"type\":\"user\"},\"timestamp\":1607420562767,\"mode\":\"active\",\"message\":{\"type\":\"text\",\"id\":\"13166592576940\",\"text\":\"@Top 10 網路書店之常用3個\"}}],\"destination\":\"U510bf767e8a779566c54c5ca24da8de0\"}\n"
          ],
          "name": "stdout"
        },
        {
          "output_type": "stream",
          "text": [
            "127.0.0.1 - - [08/Dec/2020 09:42:43] \"\u001b[37mPOST / HTTP/1.1\u001b[0m\" 200 -\n",
            "[2020-12-08 09:42:48,089] ERROR in app: Exception on / [POST]\n",
            "Traceback (most recent call last):\n",
            "  File \"/usr/local/lib/python3.6/dist-packages/flask/app.py\", line 2447, in wsgi_app\n",
            "    response = self.full_dispatch_request()\n",
            "  File \"/usr/local/lib/python3.6/dist-packages/flask/app.py\", line 1952, in full_dispatch_request\n",
            "    rv = self.handle_user_exception(e)\n",
            "  File \"/usr/local/lib/python3.6/dist-packages/flask/app.py\", line 1821, in handle_user_exception\n",
            "    reraise(exc_type, exc_value, tb)\n",
            "  File \"/usr/local/lib/python3.6/dist-packages/flask/_compat.py\", line 39, in reraise\n",
            "    raise value\n",
            "  File \"/usr/local/lib/python3.6/dist-packages/flask/app.py\", line 1950, in full_dispatch_request\n",
            "    rv = self.dispatch_request()\n",
            "  File \"/usr/local/lib/python3.6/dist-packages/flask/app.py\", line 1936, in dispatch_request\n",
            "    return self.view_functions[rule.endpoint](**req.view_args)\n",
            "  File \"<ipython-input-317-177c75612581>\", line 18, in callback\n",
            "    handler.handle(body, signature)\n",
            "  File \"/usr/local/lib/python3.6/dist-packages/linebot/webhook.py\", line 256, in handle\n",
            "    self.__invoke_func(func, event, payload)\n",
            "  File \"/usr/local/lib/python3.6/dist-packages/linebot/webhook.py\", line 268, in __invoke_func\n",
            "    func(event)\n",
            "  File \"<ipython-input-329-4880981504f1>\", line 8, in handle_message\n",
            "    template_message_dict.get(event.message.text)\n",
            "  File \"/usr/local/lib/python3.6/dist-packages/linebot/api.py\", line 104, in reply_message\n",
            "    'messages': [message.as_json_dict() for message in messages],\n",
            "  File \"/usr/local/lib/python3.6/dist-packages/linebot/api.py\", line 104, in <listcomp>\n",
            "    'messages': [message.as_json_dict() for message in messages],\n",
            "AttributeError: 'NoneType' object has no attribute 'as_json_dict'\n",
            "127.0.0.1 - - [08/Dec/2020 09:42:48] \"\u001b[35m\u001b[1mPOST / HTTP/1.1\u001b[0m\" 500 -\n"
          ],
          "name": "stderr"
        },
        {
          "output_type": "stream",
          "text": [
            "{\"events\":[{\"type\":\"message\",\"replyToken\":\"c6e421547b0f43fba3ea4edd441a7b45\",\"source\":{\"userId\":\"U9fc198f34b71026411046b614bfbf19c\",\"type\":\"user\"},\"timestamp\":1607420567363,\"mode\":\"active\",\"message\":{\"type\":\"text\",\"id\":\"13166592967189\",\"text\":\"@那就點選圖文選單吧\"}}],\"destination\":\"U510bf767e8a779566c54c5ca24da8de0\"}\n"
          ],
          "name": "stdout"
        }
      ]
    }
  ]
}